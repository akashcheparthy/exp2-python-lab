{
 "cells": [
  {
   "cell_type": "code",
   "execution_count": 26,
   "id": "4143bb0c",
   "metadata": {},
   "outputs": [
    {
     "name": "stdout",
     "output_type": "stream",
     "text": [
      "enter number:2\n",
      "2.0\n"
     ]
    }
   ],
   "source": [
    "#1.Write a program to accept floating point number from keyboard \n",
    "x=float(input(\"enter number:\"))\n",
    "print(x)\n"
   ]
  },
  {
   "cell_type": "code",
   "execution_count": 28,
   "id": "b32466b6",
   "metadata": {},
   "outputs": [
    {
     "name": "stdout",
     "output_type": "stream",
     "text": [
      "enter kilo meter:7\n",
      "press 1 to convert in meter \n",
      " press 2 to covert in centimeter \n",
      " enter a number 1 or 2:2\n",
      "700000.0 cm\n"
     ]
    }
   ],
   "source": [
    "#2Write a program to convert distance in kilometer to meter or centimeter. Your program should read distance in kilometer and then ask for choice of conversion, 1 for converting to meter and 2 for converting to centimeter and display accurate conversion. Test your program for both conversion. \n",
    "\n",
    "kilometer=float(input(\"enter kilo meter:\"))\n",
    "conversion=input(\"press 1 to convert in meter \\n press 2 to covert in centimeter \\n enter a number 1 or 2:\")\n",
    "if conversion=='1':\n",
    "    print(kilometer*1000 ,\"m\")\n",
    "elif conversion=='2':\n",
    "    print(kilometer*1000*100 ,\"cm\")\n",
    "else:\n",
    "    print(\"invalid input\")\n"
   ]
  },
  {
   "cell_type": "code",
   "execution_count": 7,
   "id": "8761564b",
   "metadata": {},
   "outputs": [
    {
     "name": "stdout",
     "output_type": "stream",
     "text": [
      "enter a number to know the day:8\n",
      "invalid input\n"
     ]
    }
   ],
   "source": [
    "#3.Program to display day of a week by reading number from 1-7. \n",
    "day=input(\"enter a number to know the day:\")\n",
    "if day==\"1\":\n",
    "    print(\"monday\")\n",
    "elif day==\"2\":\n",
    "    print(\"tuesday\")\n",
    "elif day==\"3\":\n",
    "    print(\"wednesday\")\n",
    "elif day==\"4\":\n",
    "    print(\"thursday\")\n",
    "elif day==\"5\":\n",
    "    print(\"friday\")\n",
    "elif day==\"6\":\n",
    "    print(\"saturday\")\n",
    "elif day==\"7\":\n",
    "    print(\"sunday\")\n",
    "else:\n",
    "    print(\"invalid input\")\n",
    " \n"
   ]
  },
  {
   "cell_type": "code",
   "execution_count": 9,
   "id": "0ed52eaa",
   "metadata": {},
   "outputs": [
    {
     "name": "stdout",
     "output_type": "stream",
     "text": [
      "1\n",
      "2\n",
      "3\n",
      "4\n",
      "5\n",
      "6\n",
      "7\n",
      "8\n",
      "9\n",
      "10\n"
     ]
    }
   ],
   "source": [
    "#4.Write a python program to display number from 1 to 10 [using while loop] \n",
    "i=1\n",
    "while i<=10:\n",
    "    print(i)\n",
    "    i=i+1"
   ]
  },
  {
   "cell_type": "code",
   "execution_count": 13,
   "id": "0986c199",
   "metadata": {},
   "outputs": [
    {
     "name": "stdout",
     "output_type": "stream",
     "text": [
      "1\n",
      "2\n",
      "3\n",
      "4\n",
      "5\n",
      "6\n",
      "7\n",
      "8\n",
      "9\n",
      "10\n"
     ]
    }
   ],
   "source": [
    "#Write a python program to display number from 1 to 10 [using for loop]\n",
    "for i in range(1,11):\n",
    "    print(i)"
   ]
  },
  {
   "cell_type": "code",
   "execution_count": 16,
   "id": "3b6c5ab9",
   "metadata": {},
   "outputs": [
    {
     "name": "stdout",
     "output_type": "stream",
     "text": [
      "101\n",
      "103\n",
      "105\n",
      "107\n",
      "109\n",
      "111\n",
      "113\n",
      "115\n",
      "117\n",
      "119\n",
      "121\n",
      "123\n",
      "125\n",
      "127\n",
      "129\n",
      "131\n",
      "133\n",
      "135\n",
      "137\n",
      "139\n",
      "141\n",
      "143\n",
      "145\n",
      "147\n",
      "149\n",
      "151\n",
      "153\n",
      "155\n",
      "157\n",
      "159\n",
      "161\n",
      "163\n",
      "165\n",
      "167\n",
      "169\n",
      "171\n",
      "173\n",
      "175\n",
      "177\n",
      "179\n",
      "181\n",
      "183\n",
      "185\n",
      "187\n",
      "189\n",
      "191\n",
      "193\n",
      "195\n",
      "197\n",
      "199\n"
     ]
    }
   ],
   "source": [
    "#Write a python program to display odd number between 100 and 200.\n",
    "for i in range(100,200):\n",
    "    if i%2 !=0:\n",
    "        print(i)"
   ]
  },
  {
   "cell_type": "code",
   "execution_count": 17,
   "id": "6dd4cfc3",
   "metadata": {},
   "outputs": [
    {
     "name": "stdout",
     "output_type": "stream",
     "text": [
      "1\n",
      "2\n",
      "3\n",
      "4\n",
      "5\n",
      "6\n",
      "7\n",
      "8\n",
      "9\n",
      "10\n"
     ]
    }
   ],
   "source": [
    "#Write a program to work with range and display range.\n",
    "for i in range(1,11):\n",
    "    print(i)"
   ]
  },
  {
   "cell_type": "code",
   "execution_count": 19,
   "id": "91700fb3",
   "metadata": {},
   "outputs": [
    {
     "name": "stdout",
     "output_type": "stream",
     "text": [
      "enter a number:3\n",
      "6\n"
     ]
    }
   ],
   "source": [
    "#Write a program to find factorial of a number. \n",
    "factorial=1\n",
    "x=int(input(\"enter a number:\"))\n",
    "for i in range(1,x+1):\n",
    "    factorial=factorial*i\n",
    "print(factorial)\n",
    "    \n",
    "    "
   ]
  },
  {
   "cell_type": "code",
   "execution_count": 23,
   "id": "30028809",
   "metadata": {},
   "outputs": [
    {
     "name": "stdout",
     "output_type": "stream",
     "text": [
      "*\n",
      "**\n",
      "***\n",
      "****\n",
      "*****\n"
     ]
    }
   ],
   "source": [
    "#Write a program to display following pattern \n",
    "for i in range(1,6):\n",
    "    print(i*\"*\",end=\"\\n\")"
   ]
  },
  {
   "cell_type": "code",
   "execution_count": 21,
   "id": "30558bfd",
   "metadata": {},
   "outputs": [
    {
     "name": "stdout",
     "output_type": "stream",
     "text": [
      "hellohellohellohellohello\n"
     ]
    }
   ],
   "source": [
    "print(5*\"hello\")"
   ]
  },
  {
   "cell_type": "code",
   "execution_count": null,
   "id": "8ab08ccc",
   "metadata": {},
   "outputs": [],
   "source": []
  }
 ],
 "metadata": {
  "kernelspec": {
   "display_name": "Python 3",
   "language": "python",
   "name": "python3"
  },
  "language_info": {
   "codemirror_mode": {
    "name": "ipython",
    "version": 3
   },
   "file_extension": ".py",
   "mimetype": "text/x-python",
   "name": "python",
   "nbconvert_exporter": "python",
   "pygments_lexer": "ipython3",
   "version": "3.8.8"
  }
 },
 "nbformat": 4,
 "nbformat_minor": 5
}
